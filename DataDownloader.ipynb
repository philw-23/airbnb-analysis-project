{
 "cells": [
  {
   "cell_type": "code",
   "execution_count": 157,
   "id": "d23432ad",
   "metadata": {},
   "outputs": [],
   "source": [
    "import requests\n",
    "import re\n",
    "import pandas as pd\n",
    "from pprint import pprint\n",
    "from bs4 import BeautifulSoup"
   ]
  },
  {
   "cell_type": "code",
   "execution_count": 158,
   "id": "c0a55104",
   "metadata": {},
   "outputs": [],
   "source": [
    "# List of cities to consider - can replace as desired\n",
    "cities_list = ['New York City', 'Los Angeles']"
   ]
  },
  {
   "cell_type": "code",
   "execution_count": 159,
   "id": "67faa30c",
   "metadata": {},
   "outputs": [],
   "source": [
    "# Request Data\n",
    "r = requests.get('http://insideairbnb.com/get-the-data/')"
   ]
  },
  {
   "cell_type": "code",
   "execution_count": 160,
   "id": "5b20a470",
   "metadata": {},
   "outputs": [],
   "source": [
    "# Initialize parser\n",
    "# Parse all table rows\n",
    "soup = BeautifulSoup(r.text)\n",
    "nodes = soup.find_all('tr')\n",
    "data_list = [] # For storing row data\n",
    "for node in nodes: # Enumerate through all rows\n",
    "    node_data = [] # For storing data for a specific row\n",
    "    columns = node.find_all('td') # Get all columns for row\n",
    "    if columns: # Only want to proceed if we have data\n",
    "        for c in columns: # Find all data points\n",
    "            try:\n",
    "                node_data.append(c.a['href']) # Will only work for URL\n",
    "            except:\n",
    "                node_data.append(c.text) # Otherwise, we just need the text value\n",
    "        data_list.append(node_data)"
   ]
  },
  {
   "cell_type": "code",
   "execution_count": 161,
   "id": "0691fbdc",
   "metadata": {},
   "outputs": [
    {
     "data": {
      "text/html": [
       "<div>\n",
       "<style scoped>\n",
       "    .dataframe tbody tr th:only-of-type {\n",
       "        vertical-align: middle;\n",
       "    }\n",
       "\n",
       "    .dataframe tbody tr th {\n",
       "        vertical-align: top;\n",
       "    }\n",
       "\n",
       "    .dataframe thead th {\n",
       "        text-align: right;\n",
       "    }\n",
       "</style>\n",
       "<table border=\"1\" class=\"dataframe\">\n",
       "  <thead>\n",
       "    <tr style=\"text-align: right;\">\n",
       "      <th></th>\n",
       "      <th>Data Date</th>\n",
       "      <th>Country/City</th>\n",
       "      <th>Data URL</th>\n",
       "      <th>Description</th>\n",
       "    </tr>\n",
       "  </thead>\n",
       "  <tbody>\n",
       "    <tr>\n",
       "      <th>0</th>\n",
       "      <td>08 March, 2022</td>\n",
       "      <td>Amsterdam</td>\n",
       "      <td>http://data.insideairbnb.com/the-netherlands/n...</td>\n",
       "      <td>Detailed Listings data</td>\n",
       "    </tr>\n",
       "    <tr>\n",
       "      <th>1</th>\n",
       "      <td>08 March, 2022</td>\n",
       "      <td>Amsterdam</td>\n",
       "      <td>http://data.insideairbnb.com/the-netherlands/n...</td>\n",
       "      <td>Detailed Calendar Data</td>\n",
       "    </tr>\n",
       "    <tr>\n",
       "      <th>2</th>\n",
       "      <td>08 March, 2022</td>\n",
       "      <td>Amsterdam</td>\n",
       "      <td>http://data.insideairbnb.com/the-netherlands/n...</td>\n",
       "      <td>Detailed Review Data</td>\n",
       "    </tr>\n",
       "    <tr>\n",
       "      <th>3</th>\n",
       "      <td>08 March, 2022</td>\n",
       "      <td>Amsterdam</td>\n",
       "      <td>http://data.insideairbnb.com/the-netherlands/n...</td>\n",
       "      <td>Summary information and metrics for listings i...</td>\n",
       "    </tr>\n",
       "    <tr>\n",
       "      <th>4</th>\n",
       "      <td>08 March, 2022</td>\n",
       "      <td>Amsterdam</td>\n",
       "      <td>http://data.insideairbnb.com/the-netherlands/n...</td>\n",
       "      <td>Summary Review data and Listing ID (to facilit...</td>\n",
       "    </tr>\n",
       "  </tbody>\n",
       "</table>\n",
       "</div>"
      ],
      "text/plain": [
       "        Data Date Country/City  \\\n",
       "0  08 March, 2022    Amsterdam   \n",
       "1  08 March, 2022    Amsterdam   \n",
       "2  08 March, 2022    Amsterdam   \n",
       "3  08 March, 2022    Amsterdam   \n",
       "4  08 March, 2022    Amsterdam   \n",
       "\n",
       "                                            Data URL  \\\n",
       "0  http://data.insideairbnb.com/the-netherlands/n...   \n",
       "1  http://data.insideairbnb.com/the-netherlands/n...   \n",
       "2  http://data.insideairbnb.com/the-netherlands/n...   \n",
       "3  http://data.insideairbnb.com/the-netherlands/n...   \n",
       "4  http://data.insideairbnb.com/the-netherlands/n...   \n",
       "\n",
       "                                         Description  \n",
       "0                             Detailed Listings data  \n",
       "1                             Detailed Calendar Data  \n",
       "2                               Detailed Review Data  \n",
       "3  Summary information and metrics for listings i...  \n",
       "4  Summary Review data and Listing ID (to facilit...  "
      ]
     },
     "execution_count": 161,
     "metadata": {},
     "output_type": "execute_result"
    }
   ],
   "source": [
    "# Build dataframe with all data\n",
    "col_names = ['Data Date', 'Country/City', 'Data URL', 'Description'] # Column names to use\n",
    "all_data = pd.DataFrame(data_list, columns=col_names)\n",
    "all_data.head()"
   ]
  },
  {
   "cell_type": "code",
   "execution_count": 162,
   "id": "17322d00",
   "metadata": {},
   "outputs": [
    {
     "data": {
      "text/html": [
       "<div>\n",
       "<style scoped>\n",
       "    .dataframe tbody tr th:only-of-type {\n",
       "        vertical-align: middle;\n",
       "    }\n",
       "\n",
       "    .dataframe tbody tr th {\n",
       "        vertical-align: top;\n",
       "    }\n",
       "\n",
       "    .dataframe thead th {\n",
       "        text-align: right;\n",
       "    }\n",
       "</style>\n",
       "<table border=\"1\" class=\"dataframe\">\n",
       "  <thead>\n",
       "    <tr style=\"text-align: right;\">\n",
       "      <th></th>\n",
       "      <th>Data Date</th>\n",
       "      <th>Country/City</th>\n",
       "      <th>Data URL</th>\n",
       "      <th>Description</th>\n",
       "    </tr>\n",
       "  </thead>\n",
       "  <tbody>\n",
       "    <tr>\n",
       "      <th>308</th>\n",
       "      <td>08 March, 2022</td>\n",
       "      <td>Los Angeles</td>\n",
       "      <td>http://data.insideairbnb.com/united-states/ca/...</td>\n",
       "      <td>Detailed Listings data</td>\n",
       "    </tr>\n",
       "    <tr>\n",
       "      <th>309</th>\n",
       "      <td>08 March, 2022</td>\n",
       "      <td>Los Angeles</td>\n",
       "      <td>http://data.insideairbnb.com/united-states/ca/...</td>\n",
       "      <td>Detailed Calendar Data</td>\n",
       "    </tr>\n",
       "    <tr>\n",
       "      <th>310</th>\n",
       "      <td>08 March, 2022</td>\n",
       "      <td>Los Angeles</td>\n",
       "      <td>http://data.insideairbnb.com/united-states/ca/...</td>\n",
       "      <td>Detailed Review Data</td>\n",
       "    </tr>\n",
       "    <tr>\n",
       "      <th>311</th>\n",
       "      <td>08 March, 2022</td>\n",
       "      <td>Los Angeles</td>\n",
       "      <td>http://data.insideairbnb.com/united-states/ca/...</td>\n",
       "      <td>Summary information and metrics for listings i...</td>\n",
       "    </tr>\n",
       "    <tr>\n",
       "      <th>312</th>\n",
       "      <td>08 March, 2022</td>\n",
       "      <td>Los Angeles</td>\n",
       "      <td>http://data.insideairbnb.com/united-states/ca/...</td>\n",
       "      <td>Summary Review data and Listing ID (to facilit...</td>\n",
       "    </tr>\n",
       "  </tbody>\n",
       "</table>\n",
       "</div>"
      ],
      "text/plain": [
       "          Data Date Country/City  \\\n",
       "308  08 March, 2022  Los Angeles   \n",
       "309  08 March, 2022  Los Angeles   \n",
       "310  08 March, 2022  Los Angeles   \n",
       "311  08 March, 2022  Los Angeles   \n",
       "312  08 March, 2022  Los Angeles   \n",
       "\n",
       "                                              Data URL  \\\n",
       "308  http://data.insideairbnb.com/united-states/ca/...   \n",
       "309  http://data.insideairbnb.com/united-states/ca/...   \n",
       "310  http://data.insideairbnb.com/united-states/ca/...   \n",
       "311  http://data.insideairbnb.com/united-states/ca/...   \n",
       "312  http://data.insideairbnb.com/united-states/ca/...   \n",
       "\n",
       "                                           Description  \n",
       "308                             Detailed Listings data  \n",
       "309                             Detailed Calendar Data  \n",
       "310                               Detailed Review Data  \n",
       "311  Summary information and metrics for listings i...  \n",
       "312  Summary Review data and Listing ID (to facilit...  "
      ]
     },
     "execution_count": 162,
     "metadata": {},
     "output_type": "execute_result"
    }
   ],
   "source": [
    "# Subset to desired cities\n",
    "specific_data = all_data.loc[all_data['Country/City'].isin(cities_list)]\n",
    "specific_data.head()"
   ]
  },
  {
   "cell_type": "code",
   "execution_count": 164,
   "id": "43607f7d",
   "metadata": {},
   "outputs": [
    {
     "name": "stdout",
     "output_type": "stream",
     "text": [
      "Data found for: ['Los Angeles' 'New York City']\n",
      "No Data found for: []\n"
     ]
    }
   ],
   "source": [
    "# Print where data was/wasn't found for:\n",
    "matches = specific_data['Country/City'].unique() # List of matches\n",
    "print('Data found for:', matches)\n",
    "print('No Data found for:', list(set(matches) ^ set(cities_list)))"
   ]
  },
  {
   "cell_type": "code",
   "execution_count": null,
   "id": "ceba1941",
   "metadata": {},
   "outputs": [],
   "source": []
  }
 ],
 "metadata": {
  "kernelspec": {
   "display_name": "Python 3",
   "language": "python",
   "name": "python3"
  },
  "language_info": {
   "codemirror_mode": {
    "name": "ipython",
    "version": 3
   },
   "file_extension": ".py",
   "mimetype": "text/x-python",
   "name": "python",
   "nbconvert_exporter": "python",
   "pygments_lexer": "ipython3",
   "version": "3.7.6"
  }
 },
 "nbformat": 4,
 "nbformat_minor": 5
}
